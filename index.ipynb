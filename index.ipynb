# prompt: Import the replicate pypi package, then prompt the user to enter an api key and set that in the env as REPLICATE_API_TOKEN, then run the meta/meta-llama-3-70b-instruct model on replicate

!pip install replicate
# !pip install langchain_community
!pip install pandas



import os
import pandas as pd
from replicate.client import Client
from google.colab import userdata
from google.colab import drive
drive.mount("/content/drive")

csv_path= "/content/drive/My Drive/sosmedSkor-Addiction.csv"
df = pd.read_csv(csv_path)
df.head()


# Prompt the user to enter their Replicate API token
# You can create a token at https://replicate.com/account/api-tokens
# pdf LT2-LAB1 GUIDE HALAMAN 30
replicate = Client(
  api_token=userdata.get("masrusdi"),
  headers={
    "User-Agent": "replicate-google-colab-example/1.0"
  }
)

sample = df[['Student_ID', 'Addicted_Score', 'Sleep_Hours_Per_Night', 'Mental_Health_Score']].head(10)
data_text = sample.to_string(index=False)

summary_stats = df.describe().round(2).to_string()
prompt = (
    "Berikut adalah ringkasan statistik dari data adiksi sosial media:\n\n"
    f"{summary_stats}\n\n"
    "Berdasarkan data summary, adakah korelasi antara sleep hours, mental health score, dan addiction score. buatkan analisisnya dalam bahasa indonesia?\n\n"
)


output = replicate.run(
    "ibm-granite/granite-3.3-8b-instruct",
    input={"prompt": prompt}
)
print("".join(output))
